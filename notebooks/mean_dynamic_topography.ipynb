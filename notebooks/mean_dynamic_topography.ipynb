{
 "cells": [
  {
   "cell_type": "markdown",
   "metadata": {},
   "source": [
    "# Explorar dados de altura dinâmica média calculando a corrente geostrófica usando a inclinação da superfície livre."
   ]
  },
  {
   "cell_type": "markdown",
   "metadata": {},
   "source": [
    "## Notebook para calcular a corrente geostrófica entre dois pontos usando o os dados de *Mean Dynamic Height* do arquivo `mdt_cnes_cls2009_global_v1.1.nc`."
   ]
  },
  {
   "cell_type": "markdown",
   "metadata": {},
   "source": [
    "O arquivo [mdt_cnes_cls2009_global_v1.1.nc](http://www.aviso.oceanobs.com/en/data/products/auxiliary-products.html)\\* consiste de uma grade global de Altura Dinâmica Média.  Esse conjunto de dados foi criado pelo do grupo [AVISO](http://www.aviso.oceanobs.com/en/altimetry.html).\n",
    "\n",
    "\\* Apesar de ser gratuíto é necessário fazer um pedido através do formulário online explicando como os dados serão utilizados."
   ]
  },
  {
   "cell_type": "markdown",
   "metadata": {},
   "source": [
    "### Imports."
   ]
  },
  {
   "cell_type": "markdown",
   "metadata": {},
   "source": [
    "Nas células abaixo vamos importar os módulos/funções que utilizaremos.  Começando com [NumPy](http://www.numpy.org/) e [Matplolib](http://matplotlib.org/) que são os nosso pacotes `default` para trabalhar com m *arrays* e plotagem."
   ]
  },
  {
   "cell_type": "code",
   "execution_count": null,
   "metadata": {
    "collapsed": false
   },
   "outputs": [],
   "source": [
    "import numpy as np\n",
    "import matplotlib.pyplot as plt"
   ]
  },
  {
   "cell_type": "markdown",
   "metadata": {},
   "source": [
    "Agora vamos import os pacotes [iris](http://scitools.org.uk/iris/index.html) e [cartopy](http://scitools.org.uk/cartopy/), ambos desenvolvidos pelo **UK Met Office** e extremamente úteis para carregar, plotar e manipular dados oceanográficos em diversos formatos."
   ]
  },
  {
   "cell_type": "code",
   "execution_count": null,
   "metadata": {
    "collapsed": false
   },
   "outputs": [],
   "source": [
    "import iris\n",
    "import iris.plot as iplt\n",
    "import cartopy.crs as ccrs\n",
    "import cartopy.feature as cfeature\n",
    "from cartopy.mpl.gridliner import LONGITUDE_FORMATTER, LATITUDE_FORMATTER"
   ]
  },
  {
   "cell_type": "markdown",
   "metadata": {},
   "source": [
    "Abaixo importamos o módulo [palettable](https://github.com/jiffyclub/palettable/wiki) que nos permite criar e utilizar **colormaps** usando a excelente ferramenta [colorbrewer2](http://colorbrewer2.org/)."
   ]
  },
  {
   "cell_type": "code",
   "execution_count": null,
   "metadata": {
    "collapsed": false
   },
   "outputs": [],
   "source": [
    "from palettable import colorbrewer\n",
    "\n",
    "cmap = colorbrewer.get_map('RdYlGn', 'diverging', 11, reverse=True).mpl_colormap"
   ]
  },
  {
   "cell_type": "markdown",
   "metadata": {},
   "source": [
    "Agora importamos as funções de `wrap angles` para converter os ângulos de longitude do formato -180--180 para 0--360 e vice versa.  Importamos também as funções para decompor `velocidade` e `direção` em suas componentes *`u`* e *`v`* e uma para alisar os dados."
   ]
  },
  {
   "cell_type": "code",
   "execution_count": null,
   "metadata": {
    "collapsed": false
   },
   "outputs": [],
   "source": [
    "from oceans.ff_tools import wrap_lon360, wrap_lon180\n",
    "from oceans.ff_tools.ocfis import uv2spdir, spdir2uv, smoo1"
   ]
  },
  {
   "cell_type": "markdown",
   "metadata": {},
   "source": [
    "Vamos precisar também do módulo seawater EOS-80, mas utilizaremos apenas os cálculos do parâmetro de `Coriolis` (*sw.f*), `gravidade` (*sw.g*), e `distância` (*sw.dist*)."
   ]
  },
  {
   "cell_type": "code",
   "execution_count": null,
   "metadata": {
    "collapsed": false
   },
   "outputs": [],
   "source": [
    "import seawater as sw"
   ]
  },
  {
   "cell_type": "markdown",
   "metadata": {},
   "source": [
    "Por último, mas não menos importante, vamos importar o sub-módulo `KDTree` do módulo `scipy`.  Esse algorítimo nos permite encontrar rapidamento pontos próximos uns dos outros.  Utilizaremos ele para achar os dados mais próximos de onde clicarmos com o mouse."
   ]
  },
  {
   "cell_type": "code",
   "execution_count": null,
   "metadata": {
    "collapsed": false
   },
   "outputs": [],
   "source": [
    "from scipy.spatial import KDTree"
   ]
  },
  {
   "cell_type": "markdown",
   "metadata": {},
   "source": [
    "### Definição das funções."
   ]
  },
  {
   "cell_type": "markdown",
   "metadata": {},
   "source": [
    "Primeiro vamos definir uma função para calcular a velocidade geostrófica em função da inclinação do nível do mar de acordo com a [equação](http://oceanworld.tamu.edu/resources/ocng_textbook/chapter10/chapter10_03.htm):\n",
    "$$v = i_x \\frac{g}{f}$$"
   ]
  },
  {
   "cell_type": "code",
   "execution_count": null,
   "metadata": {
    "collapsed": false
   },
   "outputs": [],
   "source": [
    "def geostrophic_current(ix, lat):\n",
    "    g = sw.g(lat.mean())\n",
    "    f = sw.f(lat.mean())\n",
    "    v = ix * g / f\n",
    "    return v"
   ]
  },
  {
   "cell_type": "markdown",
   "metadata": {},
   "source": [
    "Agora vamos definir algumas funções que vão ajudar a plotar os dados e extrair a informações que precisamos para aplicar a equação acima."
   ]
  },
  {
   "cell_type": "code",
   "execution_count": null,
   "metadata": {
    "collapsed": false
   },
   "outputs": [],
   "source": [
    "def fix_axis(lims, p=0.1):\n",
    "    \"\"\"Ajusta eixos + ou - p dos dados par exibir melhor os limites.\"\"\"\n",
    "    min = lims.min() * (1 - p) if lims.min() > 0 else lims.min() * (1 + p)\n",
    "    max = lims.max() * (1 + p) if lims.max() > 0 else lims.max() * (1 - p)\n",
    "    return min, max\n",
    "\n",
    "\n",
    "def plot_mdt(mdt, projection=ccrs.PlateCarree(), figsize=(12, 10)):\n",
    "    \"\"\"Plota 'Mean Dynamic Topography' no mapa global.\"\"\"\n",
    "    fig = plt.figure(figsize=figsize)\n",
    "    ax = plt.axes(projection=projection)\n",
    "    ax.add_feature(cfeature.LAND, facecolor='0.75')\n",
    "    cs = iplt.pcolormesh(mdt, cmap=cmap)\n",
    "    ax.coastlines()\n",
    "    gl = ax.gridlines(crs=ccrs.PlateCarree(), draw_labels=True, linewidth=1.5,\n",
    "                      color='gray', alpha=0.5, linestyle='--')\n",
    "    gl.xlabels_top = False\n",
    "    gl.ylabels_right = False\n",
    "    gl.xformatter = LONGITUDE_FORMATTER\n",
    "    gl.yformatter = LATITUDE_FORMATTER\n",
    "    cbar = fig.colorbar(cs, extend='both', orientation='vertical', shrink=0.6)\n",
    "    cbar.ax.set_title('[m]')\n",
    "    return fig, ax\n",
    "\n",
    "\n",
    "def get_position(fig, ax):\n",
    "    \"\"\"Escolhe dois pontos para fazer o cálculo.\"\"\"\n",
    "    points = np.array(fig.ginput(2))\n",
    "    lon, lat = points[:, 0], points[:, 1]\n",
    "    kw = dict(marker='o', markerfacecolor='k', markeredgecolor='w',\n",
    "              linestyle='none', alpha=0.65, markersize=5)\n",
    "    ax.plot(lon, lat, transform=ccrs.Geodetic(), **kw)\n",
    "    ax.set_title('')\n",
    "    plt.draw()\n",
    "    return lon, lat\n",
    "\n",
    "\n",
    "def mid_point(arr):\n",
    "    return (arr[1:] + arr[:-1]) / 2"
   ]
  },
  {
   "cell_type": "markdown",
   "metadata": {},
   "source": [
    "Por último vamos fazer a função que acha os dados na reta definida pelos pontos que escolhemos."
   ]
  },
  {
   "cell_type": "code",
   "execution_count": null,
   "metadata": {
    "collapsed": false
   },
   "outputs": [],
   "source": [
    "def get_nearest(xi, yi, cube):\n",
    "    \"\"\"Encontra os dados mais próximos aos pontos escolhidos.\"\"\"\n",
    "    x, y = cube.dim_coords\n",
    "    X, Y = np.meshgrid(x.points, y.points)\n",
    "    xi = wrap_lon360(xi)\n",
    "\n",
    "    tree = KDTree(zip(X.ravel(), Y.ravel()))\n",
    "    dist, indices = tree.query(np.array([xi, yi]).T)\n",
    "    indices = np.unravel_index(indices, X.shape)\n",
    "    lon = X[indices]\n",
    "    lat = Y[indices]\n",
    "\n",
    "    maskx = np.logical_and(x.points >= min(lon), x.points <= max(lon))\n",
    "    masky = np.logical_and(y.points >= min(lat), y.points <= max(lat))\n",
    "    maxnp = len(np.nonzero(maskx)[0]) + len(np.nonzero(masky)[0])\n",
    "\n",
    "    lons = np.linspace(lon[0], lon[1], maxnp)\n",
    "    lats = np.linspace(lat[0], lat[1], maxnp)\n",
    "\n",
    "    # Find all x, y, data in that line using the same KDTree obj.\n",
    "    dist, indices = tree.query(np.array([lons, lats]).T)\n",
    "    indices = np.unique(indices)\n",
    "    indices = np.unravel_index(indices, X.shape)\n",
    "\n",
    "    lons, lats = X[indices], Y[indices]\n",
    "    elvs = cube.data.T[indices]\n",
    "\n",
    "    dist, angle = sw.dist(lats, lons, 'km')\n",
    "    dist *= 1e3\n",
    "    dist = np.r_[0, dist.cumsum()]\n",
    "    return (lons, lats), (elvs, dist, angle)"
   ]
  },
  {
   "cell_type": "markdown",
   "metadata": {},
   "source": [
    "### Carregar os dados e \"limpá-los.\""
   ]
  },
  {
   "cell_type": "code",
   "execution_count": null,
   "metadata": {
    "collapsed": false
   },
   "outputs": [],
   "source": [
    "cube = iris.load_cube('mdt_cnes_cls2009_global_v1.1.nc',\n",
    "                      iris.Constraint('Mean Dynamic Topography'))\n",
    "\n",
    "print(cube)"
   ]
  },
  {
   "cell_type": "code",
   "execution_count": null,
   "metadata": {
    "collapsed": false
   },
   "outputs": [],
   "source": [
    "data = cube.data.filled(fill_value=np.NaN).copy()\n",
    "data[data == 9999.0] = np.NaN\n",
    "data = np.ma.masked_invalid(data)\n",
    "cube.data = data"
   ]
  },
  {
   "cell_type": "markdown",
   "metadata": {},
   "source": [
    "Precisamos plotar os dados em uma figura `pop-up` para escolher os dois pontos onde vamos calcular a corrente geostrófica."
   ]
  },
  {
   "cell_type": "code",
   "execution_count": null,
   "metadata": {
    "collapsed": false
   },
   "outputs": [],
   "source": [
    "%pylab --no-import-all tk"
   ]
  },
  {
   "cell_type": "code",
   "execution_count": null,
   "metadata": {
    "collapsed": false
   },
   "outputs": [],
   "source": [
    "fig, ax = plot_mdt(cube, projection=ccrs.PlateCarree(), figsize=(12, 10))\n",
    "_ = ax.set_title('Escolha dois pontos.')"
   ]
  },
  {
   "cell_type": "markdown",
   "metadata": {},
   "source": [
    "Rode novamente a célula abaixo até escolher seus pontos e quando estiver pronto feche a figura."
   ]
  },
  {
   "cell_type": "code",
   "execution_count": null,
   "metadata": {
    "collapsed": false
   },
   "outputs": [],
   "source": [
    "lon, lat = get_position(fig, ax)\n",
    "\n",
    "print('Longitude: %s\\nLatitude: %s' % (lon, lat))"
   ]
  },
  {
   "cell_type": "markdown",
   "metadata": {},
   "source": [
    "Vamos voltar ao modo \"não pop-up\" e re-plotar a nossa figura com os pontos que escolhemos."
   ]
  },
  {
   "cell_type": "code",
   "execution_count": null,
   "metadata": {
    "collapsed": false
   },
   "outputs": [],
   "source": [
    "%pylab --no-import-all inline\n",
    "\n",
    "fig, ax = plot_mdt(cube, projection=ccrs.PlateCarree(), figsize=(8, 6))\n",
    "kw = dict(marker='o', markerfacecolor='k', markeredgecolor='w',\n",
    "          linestyle='none', alpha=0.65, markersize=5)\n",
    "_ = ax.plot(lon, lat, transform=ccrs.PlateCarree(), **kw)"
   ]
  },
  {
   "cell_type": "markdown",
   "metadata": {},
   "source": [
    "Os passos a seguir são:\n",
    "\n",
    "1. Extrair os dados em uma linha definida por esses dois pontos;\n",
    "2. Suavizamos as elevações com uma janela do tipo *hanning* de 5 pontos;\n",
    "3. Calcular a inclinação para cada `dx`, `dy` extraído;\n",
    "4. Calcular a corrente geostrófica."
   ]
  },
  {
   "cell_type": "code",
   "execution_count": null,
   "metadata": {
    "collapsed": false
   },
   "outputs": [],
   "source": [
    "(lons, lats), (elvs, dist, angle) = get_nearest(lon, lat, cube)\n",
    "elvs = smoo1(elvs, window_len=5, window='hanning')\n",
    "ix = np.diff(elvs) / np.diff(dist)\n",
    "v = geostrophic_current(ix, lats.mean())\n",
    "maximum = ix == ix.max()\n",
    "dist *= 1e-3  # Converte para km."
   ]
  },
  {
   "cell_type": "markdown",
   "metadata": {},
   "source": [
    "Vamos plotar o perfil da inclinação marcando o local de maior gradiente/corrente."
   ]
  },
  {
   "cell_type": "code",
   "execution_count": null,
   "metadata": {
    "collapsed": false
   },
   "outputs": [],
   "source": [
    "fig, ax = plt.subplots(figsize=(10, 2))\n",
    "fig.subplots_adjust(bottom=0.25)\n",
    "ax.plot(dist, elvs)\n",
    "ax.axis('tight')\n",
    "ax.set_ylabel('Height [m]')\n",
    "ax.set_xlabel('Distance [km]')\n",
    "ax.set_title('Sea Surface Slope')\n",
    "vmax = v.max() if v.max() > np.abs(v.min()) else v.min()\n",
    "symbol = r'$\\bigotimes$' if vmax > 0 else r'$\\bigodot$'\n",
    "_ = ax.text(dist[maximum], elvs[maximum], symbol, va='center', ha='center')\n",
    "\n",
    "_ = ax.annotate(r'%2.2f m s$^{-1}$' % vmax, xy=(dist[maximum], elvs[maximum]),\n",
    "                xycoords='data', xytext=(-50, 30), textcoords='offset points',\n",
    "                arrowprops=dict(arrowstyle=\"->\", alpha=0.65,\n",
    "                                connectionstyle=\"angle3,angleA=0,angleB=-90\"))"
   ]
  },
  {
   "cell_type": "markdown",
   "metadata": {},
   "source": [
    "Podemos também plota um `stick-plot` com o perfil do jato de corrente na secção que escolhemos."
   ]
  },
  {
   "cell_type": "code",
   "execution_count": null,
   "metadata": {
    "collapsed": false
   },
   "outputs": [],
   "source": [
    "fig, ax = plt.subplots(figsize=(6, 6))\n",
    "ax.set_title('Jet profile')\n",
    "ax.set_xlabel('Distance [m]')\n",
    "ax.set_ylabel(r'Velocity [m $^{-1}$]')\n",
    "xm = mid_point(dist)\n",
    "kw = dict(scale_units='xy', angles='xy', scale=1)\n",
    "qk = ax.quiver(xm, [0]*len(xm), [0]*len(v), v, **kw)\n",
    "_ = ax.set_ylim(fix_axis(v))\n",
    "_ = ax.set_xlim(fix_axis(xm))"
   ]
  },
  {
   "cell_type": "markdown",
   "metadata": {},
   "source": [
    "Vamos rodar as corrente calculadas para plotar elas no mapa. (# FIXME!)"
   ]
  },
  {
   "cell_type": "code",
   "execution_count": null,
   "metadata": {
    "collapsed": false
   },
   "outputs": [],
   "source": [
    "rot = angle.mean()\n",
    "ang, spd = uv2spdir(0, v, rot=rot)\n",
    "ui, vi = spdir2uv(spd, ang, deg=False)"
   ]
  },
  {
   "cell_type": "markdown",
   "metadata": {},
   "source": [
    "Podemos carregar apenas os dados nas proximidades da reta para agilizar a nossa figura."
   ]
  },
  {
   "cell_type": "code",
   "execution_count": null,
   "metadata": {
    "collapsed": false
   },
   "outputs": [],
   "source": [
    "dx = dy = 10\n",
    "lon = wrap_lon360(lon)\n",
    "xmin, xmax = map(int, [lon[0]-dx, lon[1]+dx])\n",
    "ymin, ymax = map(int, (lat[0]-dy, lat[1]+dy))\n",
    "coord_values={'latitude':lambda cell: ymin <= cell <= ymax,\n",
    "              'longitude': lambda cell: xmin <= cell <= xmax}\n",
    "cube = iris.load_cube('mdt_cnes_cls2009_global_v1.1.nc',\n",
    "                      iris.Constraint(name='Mean Dynamic Topography', coord_values=coord_values))"
   ]
  },
  {
   "cell_type": "markdown",
   "metadata": {},
   "source": [
    "E finalmente, uma figura com a corrente sobreposta a **MDT**."
   ]
  },
  {
   "cell_type": "code",
   "execution_count": null,
   "metadata": {
    "collapsed": false
   },
   "outputs": [],
   "source": [
    "fig, ax = plot_mdt(cube, projection=ccrs.PlateCarree(), figsize=(10, 10))\n",
    "\n",
    "kw = dict(marker='o', markeredgecolor='w', linestyle='none', alpha=0.65, markersize=5)\n",
    "ax.plot(lons, lats, transform=ccrs.PlateCarree(), markerfacecolor='r', **kw)\n",
    "x, y = map(mid_point, (lons, lats))\n",
    "kw = dict(color='k', units='inches', alpha=0.65)\n",
    "\n",
    "Q = ax.quiver(x, y, ui, vi, transform=ccrs.PlateCarree(), **kw)\n",
    "ax.axis([wrap_lon180(xmin), wrap_lon180(xmax), ymin, ymax])\n",
    "qk = ax.quiverkey(Q, 0.5, 0.05, 0.5, r'0.5 m s${-1}$', fontproperties={'weight': 'bold'})"
   ]
  }
 ],
 "metadata": {
  "kernelspec": {
   "display_name": "Iris (Python 2)",
   "language": "python",
   "name": "iris_python2"
  },
  "language_info": {
   "codemirror_mode": {
    "name": "ipython",
    "version": 2
   },
   "file_extension": ".py",
   "mimetype": "text/x-python",
   "name": "python",
   "nbconvert_exporter": "python",
   "pygments_lexer": "ipython2",
   "version": "2.7.8"
  }
 },
 "nbformat": 4,
 "nbformat_minor": 0
}
